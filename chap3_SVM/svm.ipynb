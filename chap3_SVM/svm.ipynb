{
 "cells": [
  {
   "cell_type": "code",
   "execution_count": 1,
   "metadata": {},
   "outputs": [],
   "source": [
    "# -*- coding: utf-8 -*-\n",
    "%reload_ext autoreload\n",
    "%autoreload 2\n",
    "\n",
    "import numpy as np\n",
    "from svm import main"
   ]
  },
  {
   "cell_type": "markdown",
   "metadata": {},
   "source": [
    "# 第一部分\n",
    "使用基于某种核函数（线性，多项式或高斯核函数）的SVM解决非线性可分的二分类问题，数据集为 train_kernel.txt 及 test_kernel.txt"
   ]
  },
  {
   "cell_type": "code",
   "execution_count": null,
   "metadata": {},
   "outputs": [],
   "source": [
    "class SVM_kernel():\n",
    "    \"\"\"\n",
    "    SVM模型。\n",
    "    \"\"\"\n",
    "\n",
    "    def __init__(self):\n",
    "        \"\"\"\n",
    "        初始化模型。\n",
    "        \"\"\"\n",
    "        pass\n",
    "    \n",
    "\n",
    "    def train(self, data_train):\n",
    "        \"\"\"\n",
    "        训练模型。\n",
    "        \"\"\"\n",
    "        x_train, y_train = data_train[:, :2], data_train[:, 2]\n",
    "        n, d = x_train.shape\n",
    "        self.alpha = np.zeros(n)\n",
    "        self.b = 0\n",
    "        self.x_train = x_train\n",
    "        self.y_train = y_train\n",
    "        self.K = np.dot(x_train, x_train.T)\n",
    "        self.C = 1\n",
    "        self.eps = 1e-3\n",
    "        self.max_iter = 100\n",
    "\n",
    "        for _ in range(self.max_iter):\n",
    "            for i in range(n):\n",
    "                Ei = self._f(i) - y_train[i]\n",
    "                if (y_train[i] * Ei < -self.eps and self.alpha[i] < self.C) or (y_train[i] * Ei > self.eps and self.alpha[i] > 0):\n",
    "                    j = np.random.choice([k for k in range(n) if k != i])\n",
    "                    Ej = self._f(j) - y_train[j]\n",
    "                    alpha_i_old, alpha_j_old = self.alpha[i], self.alpha[j]\n",
    "                    L, H = self._L_H(i, j)\n",
    "                    if L == H:\n",
    "                        continue\n",
    "                    eta = 2 * self.K[i, j] - self.K[i, i] - self.K[j, j]\n",
    "                    if eta >= 0:\n",
    "                        continue\n",
    "                    self.alpha[j] -= y_train[j] * (Ei - Ej) / eta\n",
    "                    self.alpha[j] = max(self.alpha[j], L)\n",
    "                    self.alpha[j] = min(self.alpha[j], H)\n",
    "                    if abs(self.alpha[j] - alpha_j_old) < 1e-5:\n",
    "                        continue\n",
    "                    self.alpha[i] += y_train[i] * y_train[j] * (alpha_j_old - self.alpha[j])\n",
    "                    b1 = self.b - Ei - y_train[i] * (self.alpha[i] - alpha_i_old) * self.K[i, i] - y_train[j] * (self.alpha[j] - alpha_j_old) * self.K[i, j]\n",
    "                    b2 = self.b - Ej - y_train[i] * (self.alpha[i] - alpha_i_old) * self.K[i, j] - y_train[j] * (self.alpha[j] - alpha_j_old) * self.K[j, j]\n",
    "                    if 0 < self.alpha[i] < self.C:\n",
    "                        self.b = b1\n",
    "                    elif 0 < self.alpha[j] < self.C:\n",
    "                        self.b = b2\n",
    "                    else:\n",
    "                        self.b = (b1 + b2) / 2\n",
    "\n",
    "\n",
    "    def predict(self, x):\n",
    "        \"\"\"\n",
    "        预测标签。\n",
    "        \"\"\"\n",
    "\n",
    "\n",
    "\n",
    "main(\"train_kernel.txt\", \"test_kernel.txt\", SVM_kernel)"
   ]
  },
  {
   "cell_type": "markdown",
   "metadata": {},
   "source": []
  },
  {
   "cell_type": "code",
   "execution_count": null,
   "metadata": {},
   "outputs": [],
   "source": []
  },
  {
   "cell_type": "code",
   "execution_count": null,
   "metadata": {},
   "outputs": [],
   "source": []
  },
  {
   "cell_type": "code",
   "execution_count": null,
   "metadata": {},
   "outputs": [],
   "source": []
  }
 ],
 "metadata": {
  "kernelspec": {
   "display_name": "nndl",
   "language": "python",
   "name": "python3"
  },
  "language_info": {
   "codemirror_mode": {
    "name": "ipython",
    "version": 3
   },
   "file_extension": ".py",
   "mimetype": "text/x-python",
   "name": "python",
   "nbconvert_exporter": "python",
   "pygments_lexer": "ipython3",
   "version": "3.7.16"
  }
 },
 "nbformat": 4,
 "nbformat_minor": 2
}
