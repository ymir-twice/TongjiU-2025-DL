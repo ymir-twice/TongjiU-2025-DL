{
 "cells": [
  {
   "cell_type": "code",
   "execution_count": 90,
   "metadata": {},
   "outputs": [],
   "source": [
    "import numpy as np\n",
    "import collections\n",
    "import torch\n",
    "from torch.autograd import Variable\n",
    "import torch.optim as optim\n",
    "\n",
    "import rnn as rnn_lstm\n",
    "\n",
    "start_token = 'G'\n",
    "end_token = 'E'\n",
    "batch_size = 64\n",
    "\n",
    "def process_poems1(file_name):\n",
    "    \"\"\"\n",
    "    :param file_name:\n",
    "    :return: poems_vector  have tow dimmention ,first is the poem, the second is the word_index\n",
    "    e.g. [[1,2,3,4,5,6,7,8,9,10],[9,6,3,8,5,2,7,4,1]]\n",
    "\n",
    "    编码使用的是词袋\n",
    "    \"\"\"\n",
    "    poems = []\n",
    "    with open(file_name, \"r\", encoding='utf-8', ) as f:\n",
    "        for line in f.readlines():\n",
    "            try:\n",
    "                title, content = line.strip().split(':', 1)\n",
    "                # content = content.replace(' ', '').replace('，','').replace('。','')\n",
    "                content = content.replace(' ', '')\n",
    "                if set(\"_(（《[GE\") & set(content):\n",
    "                    continue\n",
    "                if len(content) < 5 or len(content) > 80:\n",
    "                    continue\n",
    "                content = start_token + content + end_token\n",
    "                poems.append(content)\n",
    "            except ValueError as e:\n",
    "                print(e)\n",
    "                pass\n",
    "    # 按诗的字数排序\n",
    "    poems = sorted(poems, key=lambda line: len(line))\n",
    "    # print(poems)\n",
    "    # 统计每个字出现次数\n",
    "    all_words = []\n",
    "    for poem in poems:\n",
    "        all_words += [word for word in poem]\n",
    "    counter = collections.Counter(all_words)  # 统计词和词频。\n",
    "    count_pairs = sorted(counter.items(), key=lambda x: -x[1])  # 排序\n",
    "    words, _ = zip(*count_pairs)   # words tuple\n",
    "    words = words[:len(words)] + (' ',)\n",
    "    word_int_map = dict(zip(words, range(len(words))))\n",
    "    poems_vector = [list(map(word_int_map.get, poem)) for poem in poems]\n",
    "    return poems_vector, word_int_map, words\n",
    "\n",
    "vec, w2i, ws = process_poems1('poems.txt')"
   ]
  },
  {
   "cell_type": "code",
   "execution_count": 109,
   "metadata": {},
   "outputs": [
    {
     "data": {
      "text/plain": [
       "[10, 9, 8, 7, 6, 5, 4, 3, 2, 1]"
      ]
     },
     "execution_count": 109,
     "metadata": {},
     "output_type": "execute_result"
    }
   ],
   "source": [
    "list(range(10, 0, -1))"
   ]
  },
  {
   "cell_type": "code",
   "execution_count": 96,
   "metadata": {},
   "outputs": [
    {
     "data": {
      "text/plain": [
       "6124"
      ]
     },
     "execution_count": 96,
     "metadata": {},
     "output_type": "execute_result"
    }
   ],
   "source": [
    "len(w2i)"
   ]
  },
  {
   "cell_type": "code",
   "execution_count": 75,
   "metadata": {},
   "outputs": [],
   "source": [
    "def generate_batch(batch_size, poems_vec, word_to_int):\n",
    "    n_chunk = len(poems_vec) // batch_size\n",
    "    x_batches = []\n",
    "    y_batches = []\n",
    "    for i in range(n_chunk):\n",
    "        start_index = i * batch_size\n",
    "        end_index = start_index + batch_size\n",
    "        x_data = poems_vec[start_index:end_index]\n",
    "        y_data = []\n",
    "        for row in x_data:\n",
    "            y  = row[1:]\n",
    "            y.append(row[-1])\n",
    "            y_data.append(y)\n",
    "        \"\"\"\n",
    "        x_data             y_data\n",
    "        [6,2,4,6,9]       [2,4,6,9,9]\n",
    "        [1,4,2,8,5]       [4,2,8,5,5]\n",
    "        \"\"\"\n",
    "        # print(x_data[0])\n",
    "        # print(y_data[0])\n",
    "        # exit(0)\n",
    "        x_batches.append(x_data)\n",
    "        y_batches.append(y_data)\n",
    "    return x_batches, y_batches\n",
    "\n",
    "x_batches, y_batches = generate_batch(batch_size, vec, w2i)"
   ]
  },
  {
   "cell_type": "code",
   "execution_count": null,
   "metadata": {},
   "outputs": [],
   "source": [
    "def gen_poem(begin_word):\n",
    "    # poems_vector, word_int_map, vocabularies = process_poems2('./tangshi.txt')  #  use the other dataset to train the network\n",
    "    poems_vector, word_int_map, vocabularies = process_poems1('./poems.txt')\n",
    "    word_embedding = rnn_lstm.word_embedding(vocab_length=len(word_int_map) + 1, embedding_dim=100)  # + 1 的原因不详\n",
    "    rnn_model = rnn_lstm.RNN_model(batch_sz=64, vocab_len=len(word_int_map) + 1, word_embedding=word_embedding,\n",
    "                                   embedding_dim=100, lstm_hidden_dim=128)\n",
    "\n",
    "    rnn_model.load_state_dict(torch.load('./poem_generator_rnn'))\n",
    "\n",
    "    # 指定开始的字\n",
    "\n",
    "    poem = begin_word\n",
    "    word = begin_word\n",
    "    while word != end_token:\n",
    "        input = np.array([word_int_map[w] for w in poem],dtype= np.int64)\n",
    "        input = Variable(torch.from_numpy(input))\n",
    "        output = rnn_model(input, is_test=True)\n",
    "        word = to_word(output.data.tolist()[-1], vocabularies)\n",
    "        poem += word\n",
    "        # print(word)\n",
    "        # print(poem)\n",
    "        if len(poem) > 30:\n",
    "            break\n",
    "    return poem\n"
   ]
  },
  {
   "cell_type": "code",
   "execution_count": 94,
   "metadata": {},
   "outputs": [
    {
     "name": "stdout",
     "output_type": "stream",
     "text": [
      "床前明月光，疑似地上霜。\n",
      "举头邀明月，低头思故乡。\n"
     ]
    }
   ],
   "source": [
    "def pretty_print_poem(poem):  # 令打印的结果更工整\n",
    "    \"\"\"\n",
    "    :param poem: 生成的诗歌\n",
    "    \"\"\"\n",
    "    shige=[]\n",
    "    for w in poem:\n",
    "        if w == start_token or w == end_token:\n",
    "            break\n",
    "        shige.append(w)\n",
    "    poem_sentences = poem.split('。')\n",
    "    for s in poem_sentences:\n",
    "        if s != '' and len(s) > 10:\n",
    "            print(s + '。')\n",
    "\n",
    "pretty_print_poem('床前明月光，疑似地上霜。举头邀明月，低头思故乡。E')"
   ]
  },
  {
   "cell_type": "code",
   "execution_count": null,
   "metadata": {},
   "outputs": [],
   "source": [
    "def run_training():\n",
    "    # 处理数据集\n",
    "    # poems_vector, word_to_int, vocabularies = process_poems2('./tangshi.txt')\n",
    "    poems_vector, word_to_int, vocabularies = process_poems1('./poems.txt')\n",
    "    # 生成batch\n",
    "    print(\"finish  loadding data\")\n",
    "    BATCH_SIZE = 100\n",
    "\n",
    "    torch.manual_seed(5)\n",
    "    word_embedding = rnn_lstm.word_embedding(vocab_length=len(w2i)+1 , embedding_dim= 100)\n",
    "    rnn_model = rnn_lstm.RNN_model(\n",
    "            batch_sz=BATCH_SIZE, \n",
    "            vocab_len=len(word_to_int)+1,\n",
    "            word_embedding=word_embedding,\n",
    "            embedding_dim=100,\n",
    "            lstm_hidden_dim=128\n",
    "        )\n",
    "\n",
    "    # optimizer = optim.Adam(rnn_model.parameters(), lr= 0.001)\n",
    "    optimizer=optim.RMSprop(rnn_model.parameters(), lr=0.01)\n",
    "\n",
    "    loss_fun = torch.nn.NLLLoss()    # 负对数似然\n",
    "    # rnn_model.load_state_dict(torch.load('./poem_generator_rnn'))  # if you have already trained your model you can load it by this line.\n",
    "\n",
    "    for epoch in range(30):\n",
    "        batches_inputs, batches_outputs = generate_batch(BATCH_SIZE, poems_vector, word_to_int)\n",
    "        n_chunk = len(batches_inputs)\n",
    "        for batch in range(n_chunk):\n",
    "            batch_x = batches_inputs[batch]\n",
    "            batch_y = batches_outputs[batch] # (batch , time_step)\n",
    "\n",
    "            loss = 0\n",
    "            for index in range(BATCH_SIZE):\n",
    "                x = np.array(batch_x[index], dtype=np.int64)\n",
    "                y = np.array(batch_y[index], dtype=np.int64)\n",
    "                x = Variable(torch.from_numpy(np.expand_dims(x,axis=1)))\n",
    "                y = Variable(torch.from_numpy(y ))\n",
    "                pre = rnn_model(x)\n",
    "                loss += loss_fun(pre , y)\n",
    "                if index == 0:\n",
    "                    _, pre = torch.max(pre, dim=1)\n",
    "                    print('prediction', pre.data.tolist()) # the following  three line can print the output and the prediction\n",
    "                    print('b_y       ', y.data.tolist())   # And you need to take a screenshot and then past is to your homework paper.\n",
    "                    print('*' * 30)\n",
    "            loss  = loss  / BATCH_SIZE\n",
    "            print(\"epoch  \",epoch,'batch number',batch,\"loss is: \", loss.data.tolist())\n",
    "            optimizer.zero_grad()\n",
    "            loss.backward()\n",
    "            torch.nn.utils.clip_grad_norm(rnn_model.parameters(), 1)  # 梯度裁剪，将其范数裁剪为1\n",
    "            optimizer.step()\n",
    "\n",
    "            if batch % 20 ==0:\n",
    "                torch.save(rnn_model.state_dict(), './poem_generator_rnn')\n",
    "                print(\"finish  save model\")"
   ]
  },
  {
   "cell_type": "code",
   "execution_count": 100,
   "metadata": {},
   "outputs": [
    {
     "data": {
      "text/plain": [
       "tensor([[-1.9971,  0.1940, -0.0656,  1.0433,  0.4571,  0.3991,  0.3211, -0.7078,\n",
       "         -1.0589, -0.7848],\n",
       "        [-1.9971,  0.1940, -0.0656,  1.0433,  0.4571,  0.3991,  0.3211, -0.7078,\n",
       "         -1.0589, -0.7848],\n",
       "        [-0.3227, -1.3628, -0.0876, -0.8752,  1.6105, -0.4148,  0.9255,  1.2041,\n",
       "          0.3120,  0.9475],\n",
       "        [-0.4811, -0.6897,  0.4880,  0.3446,  2.1376,  0.5290, -0.4173,  0.2829,\n",
       "          0.7824, -0.8021]], grad_fn=<EmbeddingBackward0>)"
      ]
     },
     "execution_count": 100,
     "metadata": {},
     "output_type": "execute_result"
    }
   ],
   "source": [
    "mm = torch.nn.Embedding(5, 10)\n",
    "x = torch.Tensor([1,1,3,4])\n",
    "mm(x.long())"
   ]
  },
  {
   "cell_type": "code",
   "execution_count": null,
   "metadata": {},
   "outputs": [],
   "source": []
  }
 ],
 "metadata": {
  "kernelspec": {
   "display_name": "nndl",
   "language": "python",
   "name": "python3"
  },
  "language_info": {
   "codemirror_mode": {
    "name": "ipython",
    "version": 3
   },
   "file_extension": ".py",
   "mimetype": "text/x-python",
   "name": "python",
   "nbconvert_exporter": "python",
   "pygments_lexer": "ipython3",
   "version": "3.7.16"
  }
 },
 "nbformat": 4,
 "nbformat_minor": 2
}
